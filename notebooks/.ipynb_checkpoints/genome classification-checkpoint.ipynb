{
 "metadata": {
  "name": "",
  "signature": "sha256:bea4cbe7c323651ac00a416148734825f919d45c20dc175969ecff6a4d9833c6"
 },
 "nbformat": 3,
 "nbformat_minor": 0,
 "worksheets": []
}