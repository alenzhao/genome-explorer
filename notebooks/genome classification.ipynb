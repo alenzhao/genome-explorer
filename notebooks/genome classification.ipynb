{
 "metadata": {
  "name": "",
  "signature": "sha256:90eb6727e655a1b909d5043b060b837c531ac0cd7a082bb91df4e3d7c1d7fab1"
 },
 "nbformat": 3,
 "nbformat_minor": 0,
 "worksheets": [
  {
   "cells": [
    {
     "cell_type": "code",
     "collapsed": false,
     "input": [
      "import pandas as pd\n",
      "\n",
      "from sklearn.ensemble import RandomForestClassifier, AdaBoostClassifier\n",
      "from sklearn.cross_validation import cross_val_score\n",
      "from sklearn.preprocessing import LabelEncoder, StandardScaler\n",
      "from sklearn.pipeline import Pipeline\n",
      "from sklearn.dummy import DummyClassifier\n",
      "from sklearn.feature_selection import SelectPercentile\n",
      "\n",
      "import seaborn as sns\n",
      "import numpy as np"
     ],
     "language": "python",
     "metadata": {},
     "outputs": [],
     "prompt_number": 136
    },
    {
     "cell_type": "code",
     "collapsed": false,
     "input": [
      "dat = pd.read_csv('genome-cluster-table.csv', index_col=0)\n",
      "species = [ i.split()[1] for i in dat.index ]\n",
      "\n",
      "# remove unclassified species (we can test these later!)\n",
      "classified = dat.ix[[ i != 'sp.' for i in species ]]"
     ],
     "language": "python",
     "metadata": {},
     "outputs": [],
     "prompt_number": 12
    },
    {
     "cell_type": "code",
     "collapsed": false,
     "input": [
      "features = classified.values.astype('float64')\n",
      "labels = [ i.split()[1] == 'dorei' for i in classified.index ]\n",
      "labels = LabelEncoder().fit_transform(labels)\n",
      "print labels"
     ],
     "language": "python",
     "metadata": {},
     "outputs": [
      {
       "output_type": "stream",
       "stream": "stdout",
       "text": [
        "[1 1 1 0 0 0 0 1 0 0 0 0 0 0 1 1 1 0 0 0 0 0 0 0 0 0 0 0 0 0 0 0 0 0 0 0 0\n",
        " 0 0 0 0 0 0 0 0 0 0 0 0 0 0 0 0 0 0 0 0 0 0 0 0 0 0 0 0 0 0 0 0 0 0 0 0 0\n",
        " 0 0 0 0 0 0 0 0 0 0 0 0 0 0 0 0 0 0 0 0 0 0 0 0 0 0 0 0 0 0 0 0 0 0 0 0 0\n",
        " 0 0 0 0 0 0 0 0 0 0 0 0 0 0 0 0 0 0 0 0 0 0 0 0 0 0 0 0 0 0 0 0 0 0 0 0 0\n",
        " 0 0 0 0 0 0 0]\n"
       ]
      }
     ],
     "prompt_number": 111
    },
    {
     "cell_type": "code",
     "collapsed": false,
     "input": [
      "m = Pipeline([('rf', AdaBoostClassifier(n_estimators=100))])"
     ],
     "language": "python",
     "metadata": {},
     "outputs": [],
     "prompt_number": 124
    },
    {
     "cell_type": "code",
     "collapsed": false,
     "input": [
      "scores = cross_val_score(m, features, labels, scoring='f1', cv = 3)\n",
      "dscores = cross_val_score(DummyClassifier(strategy='stratified'), features, labels, scoring='f1', cv=3)"
     ],
     "language": "python",
     "metadata": {},
     "outputs": [],
     "prompt_number": 125
    },
    {
     "cell_type": "code",
     "collapsed": false,
     "input": [
      "print '%.2f (%.2f)' % (scores.mean(), scores.std())\n",
      "print '%.2f (%.2f)' % (dscores.mean(), dscores.std())"
     ],
     "language": "python",
     "metadata": {},
     "outputs": [
      {
       "output_type": "stream",
       "stream": "stdout",
       "text": [
        "0.64 (0.15)\n",
        "0.00 (0.00)\n"
       ]
      }
     ],
     "prompt_number": 126
    },
    {
     "cell_type": "code",
     "collapsed": false,
     "input": [
      "m.fit(features, labels)\n",
      "\n",
      "keep = m.named_steps['rf'].feature_importances_ > 0\n",
      "classified.columns[keep]"
     ],
     "language": "python",
     "metadata": {},
     "outputs": [
      {
       "metadata": {},
       "output_type": "pyout",
       "prompt_number": 151,
       "text": [
        "Index([u'11476.0'], dtype='object')"
       ]
      }
     ],
     "prompt_number": 151
    }
   ],
   "metadata": {}
  }
 ]
}