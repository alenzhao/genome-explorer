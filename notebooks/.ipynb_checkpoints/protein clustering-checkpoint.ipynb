{
 "metadata": {
  "name": "",
  "signature": "sha256:213a49b81bfd2bb1273a347cedc15b29244d3f1c3883d784d6bb9dc690affe24"
 },
 "nbformat": 3,
 "nbformat_minor": 0,
 "worksheets": [
  {
   "cells": [
    {
     "cell_type": "code",
     "collapsed": false,
     "input": [
      "from Bio import SeqIO\n",
      "\n",
      "from sklearn.pipeline import Pipeline\n",
      "from sklearn.feature_extraction.text import HashingVectorizer\n",
      "from sklearn.cluster import AgglomerativeClustering\n",
      "from sklearn.random_projection import SparseRandomProjection\n",
      "\n",
      "import matplotlib as mpl\n",
      "import matplotlib.pyplot as plt\n",
      "import seaborn as sbn\n",
      "sbn.set()"
     ],
     "language": "python",
     "metadata": {},
     "outputs": [],
     "prompt_number": 3
    },
    {
     "cell_type": "code",
     "collapsed": false,
     "input": [
      "proteins = list(SeqIO.parse('../proteins.fasta', 'fasta'))\n",
      "sequences = [str(i.seq) for i in proteins ]"
     ],
     "language": "python",
     "metadata": {},
     "outputs": [],
     "prompt_number": 4
    },
    {
     "cell_type": "code",
     "collapsed": false,
     "input": [
      "print 'I have %s protein sequences' % len(proteins)"
     ],
     "language": "python",
     "metadata": {},
     "outputs": [
      {
       "output_type": "stream",
       "stream": "stdout",
       "text": [
        "I have 30197 protein sequences\n"
       ]
      }
     ],
     "prompt_number": 5
    },
    {
     "cell_type": "code",
     "collapsed": false,
     "input": [
      "pipeline = Pipeline([\n",
      "            ('vectorize', HashingVectorizer(analyzer='char')),\n",
      "            ('project', SparseRandomProjection()),\n",
      "            ('cluster', AgglomerativeClustering())])"
     ],
     "language": "python",
     "metadata": {},
     "outputs": [],
     "prompt_number": 6
    },
    {
     "cell_type": "code",
     "collapsed": false,
     "input": [
      "pipeline.fit(sequences)"
     ],
     "language": "python",
     "metadata": {},
     "outputs": []
    },
    {
     "cell_type": "code",
     "collapsed": false,
     "input": [
      "labels = pipeline.predict(sequence)"
     ],
     "language": "python",
     "metadata": {},
     "outputs": []
    },
    {
     "cell_type": "code",
     "collapsed": false,
     "input": [
      "plt.hist(labels)\n",
      "plt.show()"
     ],
     "language": "python",
     "metadata": {},
     "outputs": []
    }
   ],
   "metadata": {}
  }
 ]
}